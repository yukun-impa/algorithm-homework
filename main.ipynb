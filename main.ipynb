{
 "cells": [
  {
   "cell_type": "code",
   "execution_count": 316,
   "metadata": {},
   "outputs": [],
   "source": [
    "import networkx as nx\n",
    "import matplotlib.pyplot as plt\n",
    "INF = 99999999"
   ]
  },
  {
   "cell_type": "code",
   "execution_count": 317,
   "metadata": {},
   "outputs": [],
   "source": [
    "class MaximumFlow:\n",
    "    def __init__(self, nodes_num):\n",
    "        self.nodes_num = nodes_num\n",
    "        self.edges = [[0 for x in range(nodes_num + 1)] for y in range(nodes_num + 1)] \n",
    "        self.parent = {}\n",
    "\n",
    "        self.original_edges = [[0 for x in range(nodes_num + 1)] for y in range(nodes_num + 1)] \n",
    "\n",
    "    def add_edge(self, from_node, to_node, cap):\n",
    "        self.edges[from_node][to_node] += cap\n",
    "        self.original_edges[from_node][to_node] += cap\n",
    "\n",
    "    # Bfs is used to find augmenting paths. Update the hashmap \"parent\" \n",
    "    # while bfs to find the path.\n",
    "    def bfs(self, source, target):\n",
    "        visited = [False for x in range(0, self.nodes_num + 1)]\n",
    "        visited[source] = True\n",
    "        queue = []\n",
    "        queue.append(source)\n",
    "        while len(queue) > 0:\n",
    "            i = queue[0]\n",
    "            queue.pop(0)\n",
    "            for j in range(1, self.nodes_num + 1):\n",
    "                if self.edges[i][j] > 0 and visited[j] == False:\n",
    "                    visited[j] = True\n",
    "                    self.parent[j] = i\n",
    "                    queue.append(j)\n",
    "\n",
    "        return visited[target],\n",
    "\n",
    "    def maximumflow(self, source, target):\n",
    "        maximum_flow = 0\n",
    "        while self.bfs(source, target):\n",
    "            new_flow = INF\n",
    "            curr = target\n",
    "\n",
    "            \"\"\"\n",
    "            Once we find a augmenting path. We try to find the minimum residual\n",
    "            capacity on this path by backtracking\n",
    "            \"\"\"\n",
    "            while curr != source:\n",
    "                prev = self.parent[curr]\n",
    "                new_flow = min(new_flow, self.edges[prev][curr])\n",
    "                curr = prev\n",
    "            maximum_flow += new_flow\n",
    "\n",
    "            # If no augmenting paths are found. the function return maximum flow\n",
    "            if new_flow == 0:\n",
    "                return maximum_flow\n",
    "\n",
    "            # We adjust the residual network\n",
    "            curr = target\n",
    "            while curr != source:\n",
    "                prev = self.parent[curr]\n",
    "                self.edges[prev][curr] -= new_flow\n",
    "                self.edges[curr][prev] += new_flow \n",
    "                curr = prev\n",
    "    \n",
    "    def minimumcut(self, source, target):\n",
    "        visited = [False for x in range(0, self.nodes_num + 1)]\n",
    "        visited[source] = True\n",
    "        queue = []\n",
    "        queue.append(source)\n",
    "        while len(queue) > 0:\n",
    "            i = queue[0]\n",
    "            queue.pop(0)\n",
    "            for j in range(1, self.nodes_num + 1):\n",
    "                if self.edges[i][j] > 0 and visited[j] == False:\n",
    "                    visited[j] = True\n",
    "                    self.parent[j] = i\n",
    "                    queue.append(j)\n",
    "        return visited\n",
    "    \n",
    "    def print_result(self, source, target):\n",
    "        print(self.maximumflow(source, target))\n",
    "        st = self.minimumcut(source, target)\n",
    "        G = nx.DiGraph()\n",
    "        for i in range(1, self.nodes_num + 1):\n",
    "            G.add_node(i)\n",
    "\n",
    "        edge_label = {}\n",
    "        for i in range(1, self.nodes_num + 1):\n",
    "            for j in range(1, self.nodes_num + 1):\n",
    "                if self.original_edges[i][j] > 0:\n",
    "                    G.add_edge(i, j)\n",
    "                    cap = self.original_edges[i][j]\n",
    "                    flow = self.original_edges[i][j] - self.edges[i][j]\n",
    "                    edge_label[(i, j)] = str(flow) + \"/\" + str(cap)\n",
    "        \n",
    "        pos = nx.spring_layout(G)\n",
    "        plt.figure()\n",
    "\n",
    "        color = []\n",
    "        for i in range(1, self.nodes_num + 1):\n",
    "            if st[i]:\n",
    "                color.append('red')\n",
    "            else:\n",
    "                color.append('green')\n",
    "        \n",
    "        nx.draw(\n",
    "            G, pos, edge_color='black', width=1, linewidths=1,\n",
    "            node_size=500, node_color=color, alpha=0.9,\n",
    "            labels={node: node for node in G.nodes()}\n",
    "\n",
    "        )\n",
    "\n",
    "\n",
    "        nx.draw_networkx_edge_labels(\n",
    "            G, pos,\n",
    "            edge_label,\n",
    "            font_color='red',\n",
    "        )"
   ]
  },
  {
   "cell_type": "code",
   "execution_count": 318,
   "metadata": {},
   "outputs": [
    {
     "name": "stdout",
     "output_type": "stream",
     "text": [
      "6\n"
     ]
    },
    {
     "data": {
      "image/png": "[encoded data removed]",
      "text/plain": [
       "<Figure size 640x480 with 1 Axes>"
      ]
     },
     "metadata": {},
     "output_type": "display_data"
    }
   ],
   "source": [
    "solver = MaximumFlow(4)\n",
    "solver.add_edge(1, 2, 3)\n",
    "solver.add_edge(2, 4, 2)\n",
    "solver.add_edge(1, 3, 4)\n",
    "solver.add_edge(3, 4, 5)\n",
    "solver.add_edge(4, 1, 3)\n",
    "solver.print_result(1, 4)"
   ]
  },
  {
   "cell_type": "code",
   "execution_count": 319,
   "metadata": {},
   "outputs": [],
   "source": [
    "class MaximumMatching:\n",
    "    def __init__(self, set1_num, set2_num):\n",
    "        self.set1_num = set1_num\n",
    "        self.set2_num = set2_num\n",
    "        self.nodes_num = set1_num + set2_num\n",
    "        self.flow_solver = MaximumFlow(self.nodes_num + 1)\n",
    "        # We add edges from 0 to every node in set1 with capacity 1\n",
    "        # and edges from j from set2 to node nodes_num + 1 with capacity 1;\n",
    "        for i in range(1, set1_num + 1):\n",
    "            self.flow_solver.add_edge(0, i, 1)\n",
    "        for i in range(set1_num + 1, self.nodes_num + 1):\n",
    "            self.flow_solver.add_edge(i, self.nodes_num + 1, 1)\n",
    "\n",
    "        # Please ignore the following line. It's just used to draw the graph\n",
    "        self.original_edges = [[0 for x in range(self.nodes_num + 1)] for y in range(self.nodes_num + 1)] \n",
    "        \n",
    "    \n",
    "    def add_edge(self, a, b):\n",
    "        self.flow_solver.add_edge(a, self.set1_num + b, 1)\n",
    "\n",
    "        # Please ignore the following line. It's just used to draw the graph\n",
    "        self.original_edges[a][self.set1_num + b] = 1\n",
    "\n",
    "    def max_maching(self):\n",
    "        # We find the maximum matching by find the flow from node \"0\" to node \"nodes_num + 1\"\n",
    "        return self.flow_solver.maximumflow(0, self.nodes_num + 1)\n",
    "    \n",
    "\n",
    "\n",
    "\n",
    "    #Please ignore the following codes. They are just used to draw the pictures#\n",
    "    ############################################################################\n",
    "    ############################################################################\n",
    "    def print_result(self):\n",
    "        print(self.max_maching())\n",
    "        G = nx.Graph()\n",
    "\n",
    "        for i in range(1, self.set1_num):\n",
    "            G.add_node(1)\n",
    "\n",
    "        for j in range(self.nodes_num, self.set1_num, -1):\n",
    "            G.add_node(self.num2char(j))\n",
    "\n",
    "\n",
    "\n",
    "        for i in range(1, self.set1_num + 1):\n",
    "            for j in range(self.set1_num + 1, self.nodes_num + 1):\n",
    "                if self.original_edges[i][j] > 0:\n",
    "                    if self.flow_solver.edges[i][j] == 0:\n",
    "                        G.add_edge(i, self.num2char(j), color = 'r')\n",
    "                    else:\n",
    "                        G.add_edge(i, self.num2char(j), color = 'black')\n",
    "\n",
    "        m = self.set1_num\n",
    "        n = self.set2_num\n",
    "        pos = {}\n",
    "        pos.update((m + 1 - i, (0, i - m/2)) for i in range(1, m + 1))\n",
    "        pos.update((self.num2char(2 * m +  n + 1 - i), (1, i - m - n/2)) for i in range(m + 1, m + n + 1))\n",
    "\n",
    "        colors = nx.get_edge_attributes(G, 'color').values()\n",
    "        \n",
    "        set1 = range(1, self.set1_num + 1)\n",
    "\n",
    "        nx.draw(G, pos=pos, edge_color=colors, with_labels=True)\n",
    "   \n",
    "    def num2char(self, i):\n",
    "        return str(i - self.set1_num)\n",
    "\n"
   ]
  },
  {
   "cell_type": "code",
   "execution_count": 320,
   "metadata": {},
   "outputs": [
    {
     "name": "stdout",
     "output_type": "stream",
     "text": [
      "2\n"
     ]
    },
    {
     "data": {
      "image/png": "[encoded data removed]",
      "text/plain": [
       "<Figure size 640x480 with 1 Axes>"
      ]
     },
     "metadata": {},
     "output_type": "display_data"
    }
   ],
   "source": [
    "maxmatch = MaximumMatching(2, 2)\n",
    "maxmatch.add_edge(1,1)\n",
    "maxmatch.add_edge(1,2)\n",
    "maxmatch.add_edge(2,1)\n",
    "\n",
    "maxmatch.print_result()\n"
   ]
  }
 ],
 "metadata": {
  "kernelspec": {
   "display_name": "Python 3.10.8 64-bit",
   "language": "python",
   "name": "python3"
  },
  "language_info": {
   "codemirror_mode": {
    "name": "ipython",
    "version": 3
   },
   "file_extension": ".py",
   "mimetype": "text/x-python",
   "name": "python",
   "nbconvert_exporter": "python",
   "pygments_lexer": "ipython3",
   "version": "3.10.8"
  },
  "orig_nbformat": 4,
  "vscode": {
   "interpreter": {
    "hash": "e7370f93d1d0cde622a1f8e1c04877d8463912d04d973331ad4851f04de6915a"
   }
  }
 },
 "nbformat": 4,
 "nbformat_minor": 2
}
